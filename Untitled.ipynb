{
 "cells": [
  {
   "cell_type": "markdown",
   "id": "6f0eec8c-1cc0-459b-b164-3a9aa6192e3f",
   "metadata": {},
   "source": [
    "# My Jupyter Notebook on IBM Watson Studio"
   ]
  },
  {
   "cell_type": "markdown",
   "id": "eaeaf885-eeec-4e86-8f69-17494a34b691",
   "metadata": {},
   "source": [
    "__Vivek Yadav__\n",
    "\n",
    "Aspiring Data Scientist"
   ]
  },
  {
   "cell_type": "markdown",
   "id": "33d473b7-53a7-4ef3-9556-8460e6023240",
   "metadata": {},
   "source": [
    "_I am interested in data science because i am intrigued how huge magnitude of data is converted in a presentable manner_"
   ]
  },
  {
   "cell_type": "markdown",
   "id": "907fe408-0fc3-4456-851c-9ac915021471",
   "metadata": {},
   "source": [
    "### The following code adds two numbers"
   ]
  },
  {
   "cell_type": "code",
   "execution_count": 3,
   "id": "6d488777-efb0-49bc-87f4-4c029e17a77a",
   "metadata": {},
   "outputs": [
    {
     "data": {
      "text/plain": [
       "2"
      ]
     },
     "execution_count": 3,
     "metadata": {},
     "output_type": "execute_result"
    }
   ],
   "source": [
    "1+1"
   ]
  },
  {
   "cell_type": "markdown",
   "id": "e181bf88-2993-4cb6-9033-db816a90e84f",
   "metadata": {},
   "source": [
    "- one\n",
    "- two\n",
    "- three\n",
    "- four \n",
    "- five\n",
    "- six"
   ]
  }
 ],
 "metadata": {
  "kernelspec": {
   "display_name": "Python",
   "language": "python",
   "name": "conda-env-python-py"
  },
  "language_info": {
   "codemirror_mode": {
    "name": "ipython",
    "version": 3
   },
   "file_extension": ".py",
   "mimetype": "text/x-python",
   "name": "python",
   "nbconvert_exporter": "python",
   "pygments_lexer": "ipython3",
   "version": "3.7.12"
  }
 },
 "nbformat": 4,
 "nbformat_minor": 5
}
